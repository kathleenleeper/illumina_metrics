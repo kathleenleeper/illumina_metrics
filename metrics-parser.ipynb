{
 "cells": [
  {
   "cell_type": "code",
   "execution_count": 1,
   "id": "retained-artwork",
   "metadata": {},
   "outputs": [],
   "source": [
    "import json\n",
    "import os\n",
    "import csv\n",
    "import pandas as pd"
   ]
  },
  {
   "cell_type": "code",
   "execution_count": 2,
   "id": "loving-clerk",
   "metadata": {},
   "outputs": [],
   "source": [
    "metric_collect = []"
   ]
  },
  {
   "cell_type": "code",
   "execution_count": 3,
   "id": "radio-relief",
   "metadata": {
    "code_folding": [
     0
    ]
   },
   "outputs": [],
   "source": [
    "def format_metrics_json(fn):\n",
    "    with open(fn, 'r') as f:\n",
    "        #         print(\"processing fn {}\".format(fn))\n",
    "        data = json.loads(f.read())\n",
    "        metrics = pd.json_normalize(data)\n",
    "#         print(\"processed\\n\")\n",
    "    return metrics"
   ]
  },
  {
   "cell_type": "code",
   "execution_count": 4,
   "id": "composite-parking",
   "metadata": {
    "code_folding": [
     0
    ],
    "scrolled": true
   },
   "outputs": [],
   "source": [
    "for f in os.scandir('runs/'):\n",
    "    try:\n",
    "        metrics = format_metrics_json(f.path)\n",
    "        metric_collect.append(metrics)\n",
    "    except:\n",
    "        'error! with {}/nPassing to next.'.format(f.path)\n",
    "        pass"
   ]
  },
  {
   "cell_type": "code",
   "execution_count": 5,
   "id": "defensive-honey",
   "metadata": {
    "code_folding": [
     1
    ]
   },
   "outputs": [],
   "source": [
    "frame = pd.concat(metric_collect)\n",
    "frame['Reads_paired_PF'] = frame['SequencingStats.ReadsPfTotal'] / \\\n",
    "    4  # modify to kalhor lab parlance"
   ]
  },
  {
   "cell_type": "code",
   "execution_count": 6,
   "id": "english-mileage",
   "metadata": {},
   "outputs": [],
   "source": [
    "frame.to_csv('run_stats_all.txt')"
   ]
  },
  {
   "cell_type": "code",
   "execution_count": 8,
   "id": "specific-vector",
   "metadata": {},
   "outputs": [
    {
     "data": {
      "text/plain": [
       "0                          05NOV2020 4A 4B 4D\n",
       "0                      082621_Leo_Alberto_DSP\n",
       "0                                    15028382\n",
       "0                            191220_Davis-lib\n",
       "0                                   200527_KL\n",
       "0                               200625_Bell02\n",
       "0        200713_KL-Davis05-AJE02-Bell03-DEB02\n",
       "0                       200818_KL-AJE03-DEB03\n",
       "0               200909_Davis06-AJE03v2-Bell03\n",
       "0                          200915_KL-PhiX-run\n",
       "0                      200917_KL-PhiX-noIndex\n",
       "0                                  200929_seq\n",
       "0                                  201030_seq\n",
       "0                                  201104_seq\n",
       "0                        CB12_singleCell_set2\n",
       "0               CB12_singleCell_simg_group2-1\n",
       "0                      CW06_organoidBarcoding\n",
       "0                                 KL-20200313\n",
       "0                                KL17_1901022\n",
       "0                                  201112_seq\n",
       "0                    201119_RD01-RK-PB-PBF-V6\n",
       "0                    20200411_KL-22-23-Davis3\n",
       "0                          210120_KL-31-32-33\n",
       "0                          210122_KL-31-32-33\n",
       "0                        210212_KL-34-35-RK03\n",
       "0       210301_KL035-Davis08-RK03-AJE04-CWorg\n",
       "0                              210317-KL-JK01\n",
       "0                               210407_seqRun\n",
       "0                                 210416-RD02\n",
       "0                    210530_Davis09-CW08-RD03\n",
       "0                                210704_JEF04\n",
       "0                  210719_KL037-38-RD04-DMJ01\n",
       "0                210819_KL039-CB10-JEF05-RD05\n",
       "0               210820_DMJ02-KL040-synG-nucv1\n",
       "0                        210827_KLJJ01-CB10v2\n",
       "0                                   200427_KL\n",
       "0                                  201110_seq\n",
       "0              210907_Alberto_MtgMutationRate\n",
       "0                                     Alberto\n",
       "0           210914_CB-singleCellSim-run1_redo\n",
       "0              210923_Alberto_IndelsMtgt_3dEP\n",
       "0               210927_KL043-CB11-KL042-ssci3\n",
       "0            210929_Alberto_iCas9MutationRate\n",
       "0                                211001_DMJ03\n",
       "0            211002_KL043-PBgenov2-Davis10-RD\n",
       "0                            211024_RD07_JF06\n",
       "0           211102_AMG_LineageTrees_250c_100c\n",
       "0             211109_KL-DEB06-JJ02-RD07-JSH01\n",
       "0               211205_JJ03-JEF07-DEB06-JDL01\n",
       "0    211214_JJ-Davis11-DEB07-JDL02-JSH02-RD09\n",
       "Name: ExperimentName, dtype: object"
      ]
     },
     "execution_count": 8,
     "metadata": {},
     "output_type": "execute_result"
    }
   ],
   "source": [
    "frame['ExperimentName']"
   ]
  },
  {
   "cell_type": "code",
   "execution_count": null,
   "id": "normal-castle",
   "metadata": {},
   "outputs": [],
   "source": []
  }
 ],
 "metadata": {
  "kernelspec": {
   "display_name": "Python 3",
   "language": "python",
   "name": "python3"
  },
  "language_info": {
   "codemirror_mode": {
    "name": "ipython",
    "version": 3
   },
   "file_extension": ".py",
   "mimetype": "text/x-python",
   "name": "python",
   "nbconvert_exporter": "python",
   "pygments_lexer": "ipython3",
   "version": "3.8.6"
  }
 },
 "nbformat": 4,
 "nbformat_minor": 5
}
